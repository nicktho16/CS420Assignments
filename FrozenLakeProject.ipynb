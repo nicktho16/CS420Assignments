{
  "nbformat": 4,
  "nbformat_minor": 0,
  "metadata": {
    "colab": {
      "provenance": [],
      "include_colab_link": true
    },
    "kernelspec": {
      "name": "python3",
      "display_name": "Python 3"
    },
    "language_info": {
      "name": "python"
    }
  },
  "cells": [
    {
      "cell_type": "markdown",
      "metadata": {
        "id": "view-in-github",
        "colab_type": "text"
      },
      "source": [
        "<a href=\"https://colab.research.google.com/github/nicktho16/CS420Assignments/blob/main/FrozenLakeProject.ipynb\" target=\"_parent\"><img src=\"https://colab.research.google.com/assets/colab-badge.svg\" alt=\"Open In Colab\"/></a>"
      ]
    },
    {
      "cell_type": "code",
      "source": [
        "import warnings\n",
        "\n",
        "# Suppress all DeprecationWarnings globally\n",
        "#You can safely ignore warnings. This code helps supress some\n",
        "warnings.simplefilter(\"ignore\", DeprecationWarning)\n"
      ],
      "metadata": {
        "id": "iFgjH2qYii8N"
      },
      "execution_count": 1,
      "outputs": []
    },
    {
      "source": [
        "\n",
        "import gym\n",
        "import numpy as np\n",
        "\n",
        "env=gym.make('FrozenLake-v1', desc=None, map_name=\"4x4\", is_slippery=True,new_step_api=True)\n",
        "\n",
        "\n",
        "\n",
        "\n",
        "\n",
        "n_states = env.observation_space.n\n",
        "n_actions = env.action_space.n\n",
        "\n",
        "gamma = 0.9\n",
        "theta = 1e-6\n",
        "\n",
        "\n",
        "V = np.zeros(n_states)\n",
        "policy = np.zeros(n_states, dtype=int)\n",
        "\n",
        "\n",
        "def value_iteration():\n",
        "    global V, policy\n",
        "    while True:\n",
        "        delta = 0\n",
        "        new_V = np.copy(V)\n",
        "        for s in range(n_states):\n",
        "            q_values = np.zeros(n_actions)\n",
        "            for a in range(n_actions):\n",
        "                for prob, next_state, reward, done in env.unwrapped.P[s][a]:\n",
        "                    if done:\n",
        "                        q_values[a] += prob * reward\n",
        "                    else:\n",
        "                        q_values[a] += prob * (reward + gamma * V[next_state])\n",
        "            new_V[s] = max(q_values)\n",
        "            delta = max(delta, abs(V[s] - new_V[s]))\n",
        "            policy[s] = np.argmax(q_values)\n",
        "        V = new_V\n",
        "        if delta < theta:\n",
        "            break\n",
        "\n",
        "\n",
        "def extract_policy():\n",
        "    for s in range(n_states):\n",
        "        q_values = np.zeros(n_actions)\n",
        "        for a in range(n_actions):\n",
        "            for prob, next_state, reward, done in env.unwrapped.P[s][a]:\n",
        "                if done:\n",
        "                    q_values[a] += prob * reward\n",
        "                else:\n",
        "                    q_values[a] += prob * (reward + gamma * V[next_state])\n",
        "        policy[s] = np.argmax(q_values)\n",
        "\n",
        "\n",
        "def display_policy():\n",
        "    actions = ['←', '↓', '→', '↑']\n",
        "    grid_size = int(np.sqrt(n_states))\n",
        "\n",
        "\n",
        "    lake_map = env.unwrapped.desc\n",
        "\n",
        "    print(\"\\nOptimal Policy:\\n\")\n",
        "    for i in range(grid_size):\n",
        "        row = \"\"\n",
        "        for j in range(grid_size):\n",
        "            state = i * grid_size + j\n",
        "            tile = lake_map[i, j].decode(\"utf-8\")\n",
        "\n",
        "            if tile == 'H':\n",
        "                cell = 'H'  # Hole\n",
        "            elif tile == 'G':\n",
        "                cell = 'G'  # Goal\n",
        "            elif tile == 'S':\n",
        "                cell = 'S'  # Start position\n",
        "            else:\n",
        "                cell = actions[policy[state]]\n",
        "            row += f\"| {cell} \"\n",
        "        row += \"|\"\n",
        "        print(row)\n",
        "        print(\"-\" * (grid_size * 4 + 1))\n",
        "\n",
        "\n",
        "value_iteration()\n",
        "extract_policy()\n",
        "display_policy()\n",
        "\n",
        "\n"
      ],
      "cell_type": "code",
      "metadata": {
        "colab": {
          "base_uri": "https://localhost:8080/"
        },
        "id": "Jyi-glb1DHx6",
        "outputId": "074fa995-2c5f-45b4-a041-d4a08be545b0"
      },
      "execution_count": null,
      "outputs": [
        {
          "output_type": "stream",
          "name": "stdout",
          "text": [
            "\n",
            "Optimal Policy:\n",
            "\n",
            "| S | ↑ | ← | ↑ |\n",
            "-----------------\n",
            "| ← | H | ← | H |\n",
            "-----------------\n",
            "| ↑ | ↓ | ← | H |\n",
            "-----------------\n",
            "| H | → | ↓ | G |\n",
            "-----------------\n"
          ]
        }
      ]
    },
    {
      "cell_type": "code",
      "source": [
        "# Function to run multiple episodes and compute average reward and steps\n",
        "def run_experiment(policy, env, num_episodes=1000):\n",
        "    rewards = []\n",
        "    steps = []\n",
        "    for _ in range(num_episodes):\n",
        "        # Reset the environment (new API returns observation and info)\n",
        "        # The updated reset() method returns observation only\n",
        "        obs = env.reset()\n",
        "        total_reward = 0\n",
        "        step_count = 0\n",
        "        done = False\n",
        "        while not done:\n",
        "            # Choose the action from the computed policy\n",
        "            action = policy[obs]\n",
        "            # Perform the action; new API returns (obs, reward, terminated, truncated, info)\n",
        "            obs, reward, terminated, truncated, _ = env.step(action)\n",
        "            done = terminated or truncated\n",
        "            total_reward += reward\n",
        "            step_count += 1\n",
        "        rewards.append(total_reward)\n",
        "        steps.append(step_count)\n",
        "\n",
        "    avg_reward = np.mean(rewards)\n",
        "    avg_steps = np.mean(steps)\n",
        "    print(f\"\\nAfter {num_episodes} episodes:\")\n",
        "    print(f\"Average reward: {avg_reward}\")\n",
        "    print(f\"Average number of steps per episode: {avg_steps}\")\n",
        "    return avg_reward, avg_steps\n",
        "\n",
        "# Run the experiment\n",
        "run_experiment(policy, env, num_episodes=1000)\n",
        "\n",
        "# Reset the environment\n",
        "env.reset()"
      ],
      "metadata": {
        "colab": {
          "base_uri": "https://localhost:8080/"
        },
        "id": "yP8whQ3Wfn5w",
        "outputId": "21908175-7285-4c1a-80cf-d1d64dace16e"
      },
      "execution_count": null,
      "outputs": [
        {
          "output_type": "stream",
          "name": "stdout",
          "text": [
            "\n",
            "After 1000 episodes:\n",
            "Average reward: 0.716\n",
            "Average number of steps per episode: 40.767\n"
          ]
        },
        {
          "output_type": "execute_result",
          "data": {
            "text/plain": [
              "0"
            ]
          },
          "metadata": {},
          "execution_count": 5
        }
      ]
    },
    {
      "cell_type": "code",
      "source": [],
      "metadata": {
        "id": "nkVYs1t1rSEA"
      },
      "execution_count": null,
      "outputs": []
    }
  ]
}